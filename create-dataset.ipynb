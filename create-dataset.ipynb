{
 "cells": [
  {
   "cell_type": "markdown",
   "metadata": {},
   "source": [
    "## Create Images"
   ]
  },
  {
   "cell_type": "code",
   "execution_count": null,
   "metadata": {},
   "outputs": [],
   "source": [
    "import os\n",
    "import numpy as np\n",
    "from os import path\n",
    "from PIL import Image as PImage"
   ]
  },
  {
   "cell_type": "code",
   "execution_count": null,
   "metadata": {},
   "outputs": [],
   "source": [
    "PATH_IMGS = path.join(\"..\", \"imgs\")\n",
    "PATH_MAPS_IN = path.join(PATH_IMGS, \"00-map\")\n",
    "PATH_MASKS_IN = path.join(PATH_IMGS, \"01-mask\")\n",
    "PATH_MAPS_OUT = path.join(PATH_IMGS, \"02-sub-map\")\n",
    "PATH_MASKS_OUT = path.join(PATH_IMGS, \"02-sub-mask\")\n",
    "\n",
    "image_filenames = [f for f in os.listdir(PATH_MAPS_IN) if f.endswith(\".jpg\")]\n",
    "label_filenames = [f for f in os.listdir(PATH_MASKS_IN) if f.endswith(\".jpg\")]"
   ]
  },
  {
   "cell_type": "code",
   "execution_count": null,
   "metadata": {},
   "outputs": [],
   "source": [
    "def create_mask(img, label):\n",
    "    imglnp = np.asarray(img.convert(\"L\"))\n",
    "    imglnpt = np.where(imglnp > 128, label, 0)\n",
    "    return PImage.fromarray(np.uint8(imglnpt))\n",
    "\n",
    "\n",
    "def save_subimages(img, size, out_path):\n",
    "    iw, ih = img.width, img.height\n",
    "    num_cols, num_rows = (iw // size) + 1, (ih // size) + 1\n",
    "    step_w, step_h = ((iw - size) // (num_cols - 1)), ((ih - size) // (num_rows - 1))\n",
    "\n",
    "    for y in range(num_rows):\n",
    "        top, bottom = y * step_h, y * step_h + size\n",
    "        for x in range(num_cols):\n",
    "            left, right = x * step_w, x * step_w + size\n",
    "            sub_out_path = out_path.replace(\".jpg\", f\"-{y:02}-{x:02}.jpg\")\n",
    "            img.crop((left, top, right, bottom)).save(sub_out_path)"
   ]
  },
  {
   "cell_type": "code",
   "execution_count": null,
   "metadata": {},
   "outputs": [],
   "source": [
    "os.makedirs(PATH_MAPS_OUT, exist_ok=True)\n",
    "\n",
    "for fn in sorted(image_filenames):\n",
    "    in_path = path.join(PATH_MAPS_IN, fn)\n",
    "    out_path = path.join(PATH_MAPS_OUT, fn)\n",
    "    with PImage.open(in_path) as img:\n",
    "        save_subimages(img=img, size=512, out_path=out_path)"
   ]
  },
  {
   "cell_type": "code",
   "execution_count": null,
   "metadata": {},
   "outputs": [],
   "source": [
    "os.makedirs(PATH_MASKS_OUT, exist_ok=True)\n",
    "\n",
    "for fn in sorted(label_filenames):\n",
    "    in_path = path.join(PATH_MASKS_IN, fn)\n",
    "    out_path = path.join(PATH_MASKS_OUT, fn)\n",
    "    with PImage.open(in_path) as img:\n",
    "        imgt = create_mask(img, label=1)\n",
    "        save_subimages(img=imgt, size=512, out_path=out_path)"
   ]
  },
  {
   "cell_type": "markdown",
   "metadata": {},
   "source": [
    "## Create Dataset"
   ]
  },
  {
   "cell_type": "code",
   "execution_count": null,
   "metadata": {},
   "outputs": [],
   "source": [
    "import json\n",
    "from datasets import Dataset, DatasetDict, Image"
   ]
  },
  {
   "cell_type": "code",
   "execution_count": null,
   "metadata": {},
   "outputs": [],
   "source": [
    "PATH_IMGS = path.join(\"..\", \"imgs\")\n",
    "PATH_MAPS_IN = path.join(PATH_IMGS, \"02-sub-map\")\n",
    "PATH_MASKS_IN = path.join(PATH_IMGS, \"02-sub-mask\")"
   ]
  },
  {
   "cell_type": "code",
   "execution_count": null,
   "metadata": {},
   "outputs": [],
   "source": [
    "def create_dataset(image_paths, label_paths):\n",
    "    dataset = Dataset.from_dict({\"pixel_values\": sorted(image_paths),\n",
    "                                \"label\": sorted(label_paths)})\n",
    "    dataset = dataset.cast_column(\"pixel_values\", Image())\n",
    "    dataset = dataset.cast_column(\"label\", Image())\n",
    "    \n",
    "    return dataset"
   ]
  },
  {
   "cell_type": "code",
   "execution_count": null,
   "metadata": {},
   "outputs": [],
   "source": [
    "image_paths = sorted([path.join(PATH_MAPS_IN, f) for f in os.listdir(PATH_MAPS_IN) if f.endswith(\".jpg\")])\n",
    "label_paths = sorted([path.join(PATH_MASKS_IN, f) for f in os.listdir(PATH_MASKS_IN) if f.endswith(\".jpg\")])"
   ]
  },
  {
   "cell_type": "code",
   "execution_count": null,
   "metadata": {},
   "outputs": [],
   "source": [
    "train_dataset = create_dataset(image_paths, label_paths)\n",
    "\n",
    "dataset = DatasetDict({\n",
    "    \"train\": train_dataset,\n",
    "  }\n",
    ")"
   ]
  },
  {
   "cell_type": "code",
   "execution_count": null,
   "metadata": {},
   "outputs": [],
   "source": [
    "dataset.push_to_hub(\"thiagohersan/satellite-trees-dataset\", private=True)\n"
   ]
  },
  {
   "cell_type": "code",
   "execution_count": null,
   "metadata": {},
   "outputs": [],
   "source": [
    "id2label = {0: \"unlabeled\", 1: \"tree\"}\n",
    "with open('id2label.json', 'w') as fp:\n",
    "    json.dump(id2label, fp)"
   ]
  },
  {
   "cell_type": "code",
   "execution_count": null,
   "metadata": {},
   "outputs": [],
   "source": []
  }
 ],
 "metadata": {
  "kernelspec": {
   "display_name": "Python 3.8.15 ('hf-dataset')",
   "language": "python",
   "name": "python3"
  },
  "language_info": {
   "codemirror_mode": {
    "name": "ipython",
    "version": 3
   },
   "file_extension": ".py",
   "mimetype": "text/x-python",
   "name": "python",
   "nbconvert_exporter": "python",
   "pygments_lexer": "ipython3",
   "version": "3.8.15"
  },
  "orig_nbformat": 4,
  "vscode": {
   "interpreter": {
    "hash": "1fae5adfb5fbfd6ca5ad9d5ae98b32860fbed1b670931c440ccd221ee9e553ce"
   }
  }
 },
 "nbformat": 4,
 "nbformat_minor": 2
}
