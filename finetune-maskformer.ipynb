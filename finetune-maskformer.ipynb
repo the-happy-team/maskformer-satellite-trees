{
 "cells": [
  {
   "cell_type": "code",
   "execution_count": null,
   "metadata": {},
   "outputs": [],
   "source": [
    "import albumentations as A\n",
    "import evaluate\n",
    "import json\n",
    "import matplotlib.pyplot as plt\n",
    "import numpy as np\n",
    "from datasets import load_dataset\n",
    "from huggingface_hub import hf_hub_download\n",
    "from PIL import Image as PImage\n",
    "from torch.utils.data import DataLoader, Dataset\n",
    "from transformers import MaskFormerForInstanceSegmentation, MaskFormerImageProcessor\n"
   ]
  },
  {
   "cell_type": "markdown",
   "metadata": {},
   "source": [
    "### Download and Check Dataset"
   ]
  },
  {
   "cell_type": "code",
   "execution_count": null,
   "metadata": {},
   "outputs": [],
   "source": [
    "def color_palette():\n",
    "    \"\"\"\n",
    "    Abbreviated version of ADE20k.\n",
    "    \"\"\"\n",
    "    return [\n",
    "        [120, 120, 120], [4, 200, 4], [180, 120, 120], [6, 230, 230],\n",
    "        [80, 50, 50], [120, 120, 80], [140, 140, 140], [204, 5, 255]\n",
    "        ]\n",
    "\n",
    "palette = color_palette()"
   ]
  },
  {
   "cell_type": "code",
   "execution_count": null,
   "metadata": {},
   "outputs": [],
   "source": [
    "def add_segmentations_to_image(img, segs):\n",
    "    color_segmentation_map = np.zeros((segs.shape[0], segs.shape[1], 3), dtype=np.uint8)\n",
    "    for label, color in enumerate(palette):\n",
    "        color_segmentation_map[segs == label, :] = color\n",
    "    img_mask = np.array(img) * 0.5 + color_segmentation_map * 0.5\n",
    "    return img_mask.astype(np.uint8)\n",
    "\n",
    "\n",
    "def visualize_mask(masks, labels, label_name):\n",
    "  print(\"Label:\", label_name)\n",
    "  idx = labels.index(label_name)\n",
    "\n",
    "  visual_mask = (masks[idx].bool().numpy() * 255).astype(np.uint8)\n",
    "  return PImage.fromarray(visual_mask)"
   ]
  },
  {
   "cell_type": "code",
   "execution_count": null,
   "metadata": {},
   "outputs": [],
   "source": [
    "dataset_id = f\"thiagohersan/satellite-trees-dataset\""
   ]
  },
  {
   "cell_type": "code",
   "execution_count": null,
   "metadata": {},
   "outputs": [],
   "source": [
    "id2label = json.load(open(hf_hub_download(dataset_id, \"id2label.json\", repo_type=\"dataset\"), \"r\"))\n",
    "id2label = {int(k):v for k,v in id2label.items()}\n",
    "label2id = {v:int(k) for k,v in id2label.items()}"
   ]
  },
  {
   "cell_type": "code",
   "execution_count": null,
   "metadata": {},
   "outputs": [],
   "source": [
    "dataset = load_dataset(dataset_id)\n",
    "dataset = dataset.shuffle(seed=101010)\n",
    "dataset = dataset[\"train\"].train_test_split(test_size=0.2)\n",
    "\n",
    "train_ds = dataset[\"train\"]\n",
    "test_ds = dataset[\"test\"]"
   ]
  },
  {
   "cell_type": "code",
   "execution_count": null,
   "metadata": {},
   "outputs": [],
   "source": [
    "example = train_ds[0]\n",
    "ex_image = example['pixel_values']\n",
    "ex_segmentation_map = np.array(example['label'])\n",
    "ex_labels = [id2label[label] for label in np.unique(ex_segmentation_map)]\n",
    "\n",
    "np.unique(ex_segmentation_map, return_counts=True), ex_labels"
   ]
  },
  {
   "cell_type": "code",
   "execution_count": null,
   "metadata": {},
   "outputs": [],
   "source": [
    "ex_im_seg = add_segmentations_to_image(ex_image, ex_segmentation_map)\n",
    "plt.figure(figsize=(15, 10))\n",
    "plt.imshow(ex_im_seg)\n",
    "plt.show()"
   ]
  },
  {
   "cell_type": "markdown",
   "metadata": {},
   "source": [
    "### Create PyTorch Dataset"
   ]
  },
  {
   "cell_type": "code",
   "execution_count": null,
   "metadata": {},
   "outputs": [],
   "source": [
    "ADE_MEAN = np.array([123.675, 116.280, 103.530]) / 255\n",
    "ADE_STD = np.array([58.395, 57.120, 57.375]) / 255\n",
    "\n",
    "train_transform = A.Compose([\n",
    "    A.Resize(width=512, height=512),\n",
    "    A.HorizontalFlip(p=0.5),\n",
    "    A.Normalize(mean=ADE_MEAN, std=ADE_STD),\n",
    "])\n",
    "\n",
    "test_transform = A.Compose([\n",
    "    A.Resize(width=512, height=512),\n",
    "    A.Normalize(mean=ADE_MEAN, std=ADE_STD),\n",
    "\n",
    "])"
   ]
  },
  {
   "cell_type": "code",
   "execution_count": null,
   "metadata": {},
   "outputs": [],
   "source": [
    "class ImageSegmentationDataset(Dataset):\n",
    "    def __init__(self, dataset, transform):\n",
    "        self.dataset = dataset\n",
    "        self.transform = transform\n",
    "\n",
    "    def __len__(self):\n",
    "        return len(self.dataset)\n",
    "\n",
    "    def __getitem__(self, idx):\n",
    "        original_image = np.array(self.dataset[idx]['pixel_values'])\n",
    "        original_segmentation_map = np.array(self.dataset[idx]['label'])\n",
    "\n",
    "        transformed = self.transform(image=original_image, mask=original_segmentation_map)\n",
    "        image, segmentation_map = transformed['image'], transformed['mask']\n",
    "\n",
    "        image = image.transpose(2,0,1) # convert to C, H, W\n",
    "\n",
    "        return image, segmentation_map, original_image, original_segmentation_map"
   ]
  },
  {
   "cell_type": "code",
   "execution_count": null,
   "metadata": {},
   "outputs": [],
   "source": [
    "train_dataset = ImageSegmentationDataset(train_ds, transform=train_transform)\n",
    "test_dataset = ImageSegmentationDataset(test_ds, transform=test_transform)"
   ]
  },
  {
   "cell_type": "code",
   "execution_count": null,
   "metadata": {},
   "outputs": [],
   "source": [
    "ds_image, ds_segmentation_map, _, _ = train_dataset[10]\n",
    "\n",
    "ds_labels = [id2label[label] for label in np.unique(ds_segmentation_map)]\n",
    "\n",
    "print(ds_image.shape, ds_segmentation_map.shape)\n",
    "print(np.unique(ds_segmentation_map, return_counts=True), ds_labels)"
   ]
  },
  {
   "cell_type": "code",
   "execution_count": null,
   "metadata": {},
   "outputs": [],
   "source": [
    "PImage.fromarray(np.moveaxis(ds_image.astype(np.uint8), 0, -1))"
   ]
  },
  {
   "cell_type": "code",
   "execution_count": null,
   "metadata": {},
   "outputs": [],
   "source": [
    "ds_unnormalized_image = (ds_image * np.array(ADE_STD)[:, None, None]) + np.array(ADE_MEAN)[:, None, None]\n",
    "ds_unnormalized_image = (ds_unnormalized_image * 255).astype(np.uint8)\n",
    "ds_unnormalized_image = np.moveaxis(ds_unnormalized_image, 0, -1)"
   ]
  },
  {
   "cell_type": "code",
   "execution_count": null,
   "metadata": {},
   "outputs": [],
   "source": [
    "PImage.fromarray(ds_unnormalized_image)"
   ]
  },
  {
   "cell_type": "code",
   "execution_count": null,
   "metadata": {},
   "outputs": [],
   "source": [
    "ds_im_seg = add_segmentations_to_image(ds_unnormalized_image, ds_segmentation_map)\n",
    "plt.figure(figsize=(15, 10))\n",
    "plt.imshow(ds_im_seg)\n",
    "plt.show()"
   ]
  },
  {
   "cell_type": "markdown",
   "metadata": {},
   "source": [
    "### Create PyTorch DataLoader"
   ]
  },
  {
   "cell_type": "code",
   "execution_count": null,
   "metadata": {},
   "outputs": [],
   "source": [
    "preprocessor = MaskFormerImageProcessor(\n",
    "    ignore_index=0, reduce_labels=False,\n",
    "    do_resize=False, do_rescale=False, do_normalize=False)\n",
    "\n",
    "def collate_fn(batch):\n",
    "    inputs = list(zip(*batch))\n",
    "    images = inputs[0]\n",
    "    segmentation_maps = inputs[1]\n",
    "\n",
    "    batch = preprocessor(\n",
    "        images,\n",
    "        segmentation_maps=segmentation_maps,\n",
    "        return_tensors=\"pt\",\n",
    "    )\n",
    "\n",
    "    batch[\"original_images\"] = inputs[2]\n",
    "    batch[\"original_segmentation_maps\"] = inputs[3]\n",
    "    \n",
    "    return batch"
   ]
  },
  {
   "cell_type": "code",
   "execution_count": null,
   "metadata": {},
   "outputs": [],
   "source": [
    "train_dataloader = DataLoader(train_dataset, batch_size=2, shuffle=True, collate_fn=collate_fn)\n",
    "test_dataloader = DataLoader(test_dataset, batch_size=2, shuffle=False, collate_fn=collate_fn)"
   ]
  },
  {
   "cell_type": "code",
   "execution_count": null,
   "metadata": {},
   "outputs": [],
   "source": [
    "batch = next(iter(train_dataloader))\n",
    "dl_idx = 0\n",
    "\n",
    "for k,v in batch.items():\n",
    "  try:\n",
    "    print(k,v.shape)\n",
    "  except:\n",
    "    print(k,v[dl_idx].shape)\n",
    "  \n",
    "dl_labels = [id2label[label] for label in batch[\"class_labels\"][dl_idx].tolist()]\n",
    "\n",
    "print(batch[\"mask_labels\"][dl_idx].shape, dl_labels)"
   ]
  },
  {
   "cell_type": "code",
   "execution_count": null,
   "metadata": {},
   "outputs": [],
   "source": [
    "dl_image = batch['pixel_values'][dl_idx].numpy()\n",
    "\n",
    "PImage.fromarray(np.moveaxis(dl_image.astype(np.uint8), 0, -1))"
   ]
  },
  {
   "cell_type": "code",
   "execution_count": null,
   "metadata": {},
   "outputs": [],
   "source": [
    "dl_unnormalized_image = (dl_image * np.array(ADE_STD)[:, None, None]) + np.array(ADE_MEAN)[:, None, None]\n",
    "dl_unnormalized_image = (dl_unnormalized_image * 255).astype(np.uint8)\n",
    "dl_unnormalized_image = np.moveaxis(dl_unnormalized_image, 0, -1)\n",
    "PImage.fromarray(dl_unnormalized_image)"
   ]
  },
  {
   "cell_type": "code",
   "execution_count": null,
   "metadata": {},
   "outputs": [],
   "source": [
    "visualize_mask(batch[\"mask_labels\"][dl_idx], dl_labels, \"tree\")"
   ]
  },
  {
   "cell_type": "markdown",
   "metadata": {},
   "source": [
    "### Build Model"
   ]
  },
  {
   "cell_type": "code",
   "execution_count": null,
   "metadata": {},
   "outputs": [],
   "source": [
    "model = MaskFormerForInstanceSegmentation.from_pretrained(\n",
    "    \"facebook/maskformer-swin-base-ade\",\n",
    "    id2label=id2label, ignore_mismatched_sizes=True\n",
    ")"
   ]
  },
  {
   "cell_type": "code",
   "execution_count": null,
   "metadata": {},
   "outputs": [],
   "source": [
    "outputs = model(\n",
    "    batch[\"pixel_values\"],\n",
    "    class_labels=batch[\"class_labels\"],\n",
    "    mask_labels=batch[\"mask_labels\"]\n",
    ")"
   ]
  },
  {
   "cell_type": "code",
   "execution_count": null,
   "metadata": {},
   "outputs": [],
   "source": [
    "outputs.loss"
   ]
  },
  {
   "cell_type": "markdown",
   "metadata": {},
   "source": [
    "### Train"
   ]
  },
  {
   "cell_type": "code",
   "execution_count": null,
   "metadata": {},
   "outputs": [],
   "source": [
    "metric = evaluate.load(\"mean_iou\")"
   ]
  }
 ],
 "metadata": {
  "kernelspec": {
   "display_name": "Python 3.8.15 ('hf-model')",
   "language": "python",
   "name": "python3"
  },
  "language_info": {
   "codemirror_mode": {
    "name": "ipython",
    "version": 3
   },
   "file_extension": ".py",
   "mimetype": "text/x-python",
   "name": "python",
   "nbconvert_exporter": "python",
   "pygments_lexer": "ipython3",
   "version": "3.8.15"
  },
  "orig_nbformat": 4,
  "vscode": {
   "interpreter": {
    "hash": "89e384cab7c47fb35ec95d2248b519cf922ee174880eed636c26cdfb6c4df768"
   }
  }
 },
 "nbformat": 4,
 "nbformat_minor": 2
}
